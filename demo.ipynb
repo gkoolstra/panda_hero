{
 "cells": [
  {
   "cell_type": "code",
   "execution_count": 11,
   "metadata": {},
   "outputs": [],
   "source": [
    "import numpy as np\n",
    "import kungfu_pandas as kp"
   ]
  },
  {
   "attachments": {},
   "cell_type": "markdown",
   "metadata": {},
   "source": [
    "## Create a new file"
   ]
  },
  {
   "attachments": {},
   "cell_type": "markdown",
   "metadata": {},
   "source": [
    "We're starting off with creating a new filename. This file will have an `.h5` extension and we'll use this throughout the rest of the notebook."
   ]
  },
  {
   "cell_type": "code",
   "execution_count": 12,
   "metadata": {},
   "outputs": [],
   "source": [
    "measurement_name = 'test'\n",
    "path = r'/Users/gerwinkoolstra/Documents/Code/panda_hero/data'\n",
    "\n",
    "# Create a new filename\n",
    "filepath = kp.create_path_filename(measurement_name, path=path)"
   ]
  },
  {
   "attachments": {},
   "cell_type": "markdown",
   "metadata": {},
   "source": [
    "## Save a 1d array at once"
   ]
  },
  {
   "cell_type": "code",
   "execution_count": 31,
   "metadata": {},
   "outputs": [
    {
     "name": "stdout",
     "output_type": "stream",
     "text": [
      "h5_key already exists, data not saved!\n"
     ]
    }
   ],
   "source": [
    "fpoints = np.linspace(1, 9, 101)\n",
    "mag = np.random.rand(101)\n",
    "phase = np.random.rand(101)\n",
    "\n",
    "kp.save_nd_sweep(filepath=filepath, data_array=np.c_[mag, phase], data_column_names=[\"magnitude\", \"phase\"], \n",
    "                 index_arrays=[fpoints], index_names=[\"fpoints\"], \n",
    "                 h5_key=\"vna_spectrum\")"
   ]
  },
  {
   "cell_type": "code",
   "execution_count": 29,
   "metadata": {},
   "outputs": [
    {
     "name": "stdout",
     "output_type": "stream",
     "text": [
      "['2dsweep', 'build2d', 'build3d', 'settings', 'vna_spectrum']\n"
     ]
    }
   ],
   "source": [
    "print(kp.get_keys(filepath))"
   ]
  },
  {
   "cell_type": "code",
   "execution_count": 30,
   "metadata": {},
   "outputs": [
    {
     "data": {
      "text/html": [
       "<div>\n",
       "<style scoped>\n",
       "    .dataframe tbody tr th:only-of-type {\n",
       "        vertical-align: middle;\n",
       "    }\n",
       "\n",
       "    .dataframe tbody tr th {\n",
       "        vertical-align: top;\n",
       "    }\n",
       "\n",
       "    .dataframe thead th {\n",
       "        text-align: right;\n",
       "    }\n",
       "</style>\n",
       "<table border=\"1\" class=\"dataframe\">\n",
       "  <thead>\n",
       "    <tr style=\"text-align: right;\">\n",
       "      <th></th>\n",
       "      <th>fpoints</th>\n",
       "      <th>magnitude</th>\n",
       "      <th>phase</th>\n",
       "    </tr>\n",
       "    <tr>\n",
       "      <th>fpoints</th>\n",
       "      <th></th>\n",
       "      <th></th>\n",
       "      <th></th>\n",
       "    </tr>\n",
       "  </thead>\n",
       "  <tbody>\n",
       "    <tr>\n",
       "      <th>1.00</th>\n",
       "      <td>1.00</td>\n",
       "      <td>0.084020</td>\n",
       "      <td>0.909675</td>\n",
       "    </tr>\n",
       "    <tr>\n",
       "      <th>1.08</th>\n",
       "      <td>1.08</td>\n",
       "      <td>0.248821</td>\n",
       "      <td>0.465216</td>\n",
       "    </tr>\n",
       "    <tr>\n",
       "      <th>1.16</th>\n",
       "      <td>1.16</td>\n",
       "      <td>0.415380</td>\n",
       "      <td>0.898887</td>\n",
       "    </tr>\n",
       "    <tr>\n",
       "      <th>1.24</th>\n",
       "      <td>1.24</td>\n",
       "      <td>0.581689</td>\n",
       "      <td>0.822018</td>\n",
       "    </tr>\n",
       "    <tr>\n",
       "      <th>1.32</th>\n",
       "      <td>1.32</td>\n",
       "      <td>0.051340</td>\n",
       "      <td>0.616350</td>\n",
       "    </tr>\n",
       "    <tr>\n",
       "      <th>...</th>\n",
       "      <td>...</td>\n",
       "      <td>...</td>\n",
       "      <td>...</td>\n",
       "    </tr>\n",
       "    <tr>\n",
       "      <th>8.68</th>\n",
       "      <td>8.68</td>\n",
       "      <td>0.729694</td>\n",
       "      <td>0.377838</td>\n",
       "    </tr>\n",
       "    <tr>\n",
       "      <th>8.76</th>\n",
       "      <td>8.76</td>\n",
       "      <td>0.921537</td>\n",
       "      <td>0.436161</td>\n",
       "    </tr>\n",
       "    <tr>\n",
       "      <th>8.84</th>\n",
       "      <td>8.84</td>\n",
       "      <td>0.528396</td>\n",
       "      <td>0.466112</td>\n",
       "    </tr>\n",
       "    <tr>\n",
       "      <th>8.92</th>\n",
       "      <td>8.92</td>\n",
       "      <td>0.097280</td>\n",
       "      <td>0.348667</td>\n",
       "    </tr>\n",
       "    <tr>\n",
       "      <th>9.00</th>\n",
       "      <td>9.00</td>\n",
       "      <td>0.099997</td>\n",
       "      <td>0.713563</td>\n",
       "    </tr>\n",
       "  </tbody>\n",
       "</table>\n",
       "<p>101 rows × 3 columns</p>\n",
       "</div>"
      ],
      "text/plain": [
       "         fpoints  magnitude     phase\n",
       "fpoints                              \n",
       "1.00        1.00   0.084020  0.909675\n",
       "1.08        1.08   0.248821  0.465216\n",
       "1.16        1.16   0.415380  0.898887\n",
       "1.24        1.24   0.581689  0.822018\n",
       "1.32        1.32   0.051340  0.616350\n",
       "...          ...        ...       ...\n",
       "8.68        8.68   0.729694  0.377838\n",
       "8.76        8.76   0.921537  0.436161\n",
       "8.84        8.84   0.528396  0.466112\n",
       "8.92        8.92   0.097280  0.348667\n",
       "9.00        9.00   0.099997  0.713563\n",
       "\n",
       "[101 rows x 3 columns]"
      ]
     },
     "execution_count": 30,
     "metadata": {},
     "output_type": "execute_result"
    }
   ],
   "source": [
    "df = kp.open_file(filepath, h5_key=\"vna_spectrum\")\n",
    "df"
   ]
  },
  {
   "attachments": {},
   "cell_type": "markdown",
   "metadata": {},
   "source": [
    "## Append to a 1d array"
   ]
  },
  {
   "cell_type": "code",
   "execution_count": 33,
   "metadata": {},
   "outputs": [
    {
     "name": "stdout",
     "output_type": "stream",
     "text": [
      "h5_key build1dsweep does not exist! These are all available h5_keys:\n",
      "['2dsweep', 'build2d', 'build3d', 'settings', 'vna_spectrum']\n"
     ]
    }
   ],
   "source": [
    "x1 = np.linspace(0, 1, 11)\n",
    "\n",
    "for X1 in x1:\n",
    "    fpoints = np.linspace(1, 9, 101)\n",
    "    mag = np.random.rand(101)\n",
    "    phase = np.random.rand(101)\n",
    "        \n",
    "    kp.append_nd_sweep(filepath, data_array=np.c_[mag, phase], index_arrays=[[X1], fpoints], data_column_names=[\"magnitude\", \"phase\"], \n",
    "                       index_names=[\"x1\", \"fpoints\"], h5_key=\"build1dsweep\")"
   ]
  },
  {
   "cell_type": "code",
   "execution_count": 35,
   "metadata": {},
   "outputs": [
    {
     "data": {
      "text/html": [
       "<div>\n",
       "<style scoped>\n",
       "    .dataframe tbody tr th:only-of-type {\n",
       "        vertical-align: middle;\n",
       "    }\n",
       "\n",
       "    .dataframe tbody tr th {\n",
       "        vertical-align: top;\n",
       "    }\n",
       "\n",
       "    .dataframe thead th {\n",
       "        text-align: right;\n",
       "    }\n",
       "</style>\n",
       "<table border=\"1\" class=\"dataframe\">\n",
       "  <thead>\n",
       "    <tr style=\"text-align: right;\">\n",
       "      <th></th>\n",
       "      <th></th>\n",
       "      <th>magnitude</th>\n",
       "      <th>phase</th>\n",
       "    </tr>\n",
       "    <tr>\n",
       "      <th>x1</th>\n",
       "      <th>fpoints</th>\n",
       "      <th></th>\n",
       "      <th></th>\n",
       "    </tr>\n",
       "  </thead>\n",
       "  <tbody>\n",
       "    <tr>\n",
       "      <th rowspan=\"5\" valign=\"top\">0.0</th>\n",
       "      <th>1.00</th>\n",
       "      <td>0.395954</td>\n",
       "      <td>0.088981</td>\n",
       "    </tr>\n",
       "    <tr>\n",
       "      <th>1.08</th>\n",
       "      <td>0.030732</td>\n",
       "      <td>0.212687</td>\n",
       "    </tr>\n",
       "    <tr>\n",
       "      <th>1.16</th>\n",
       "      <td>0.015680</td>\n",
       "      <td>0.594282</td>\n",
       "    </tr>\n",
       "    <tr>\n",
       "      <th>1.24</th>\n",
       "      <td>0.460454</td>\n",
       "      <td>0.218475</td>\n",
       "    </tr>\n",
       "    <tr>\n",
       "      <th>1.32</th>\n",
       "      <td>0.580991</td>\n",
       "      <td>0.654628</td>\n",
       "    </tr>\n",
       "    <tr>\n",
       "      <th>...</th>\n",
       "      <th>...</th>\n",
       "      <td>...</td>\n",
       "      <td>...</td>\n",
       "    </tr>\n",
       "    <tr>\n",
       "      <th rowspan=\"5\" valign=\"top\">1.0</th>\n",
       "      <th>8.68</th>\n",
       "      <td>0.659944</td>\n",
       "      <td>0.479762</td>\n",
       "    </tr>\n",
       "    <tr>\n",
       "      <th>8.76</th>\n",
       "      <td>0.567475</td>\n",
       "      <td>0.793156</td>\n",
       "    </tr>\n",
       "    <tr>\n",
       "      <th>8.84</th>\n",
       "      <td>0.471219</td>\n",
       "      <td>0.743254</td>\n",
       "    </tr>\n",
       "    <tr>\n",
       "      <th>8.92</th>\n",
       "      <td>0.994015</td>\n",
       "      <td>0.276695</td>\n",
       "    </tr>\n",
       "    <tr>\n",
       "      <th>9.00</th>\n",
       "      <td>0.733724</td>\n",
       "      <td>0.233328</td>\n",
       "    </tr>\n",
       "  </tbody>\n",
       "</table>\n",
       "<p>1111 rows × 2 columns</p>\n",
       "</div>"
      ],
      "text/plain": [
       "             magnitude     phase\n",
       "x1  fpoints                     \n",
       "0.0 1.00      0.395954  0.088981\n",
       "    1.08      0.030732  0.212687\n",
       "    1.16      0.015680  0.594282\n",
       "    1.24      0.460454  0.218475\n",
       "    1.32      0.580991  0.654628\n",
       "...                ...       ...\n",
       "1.0 8.68      0.659944  0.479762\n",
       "    8.76      0.567475  0.793156\n",
       "    8.84      0.471219  0.743254\n",
       "    8.92      0.994015  0.276695\n",
       "    9.00      0.733724  0.233328\n",
       "\n",
       "[1111 rows x 2 columns]"
      ]
     },
     "execution_count": 35,
     "metadata": {},
     "output_type": "execute_result"
    }
   ],
   "source": [
    "df = kp.open_file(filepath, h5_key=\"build1dsweep\")\n",
    "df"
   ]
  },
  {
   "attachments": {},
   "cell_type": "markdown",
   "metadata": {},
   "source": [
    "## Add a 2d data array at once"
   ]
  },
  {
   "cell_type": "code",
   "execution_count": 14,
   "metadata": {},
   "outputs": [
    {
     "name": "stderr",
     "output_type": "stream",
     "text": [
      "/Users/gerwinkoolstra/opt/anaconda3/envs/eonhe/lib/python3.10/site-packages/tables/path.py:137: NaturalNameWarning: object name is not a valid Python identifier: '2dsweep'; it does not match the pattern ``^[a-zA-Z_][a-zA-Z0-9_]*$``; you will not be able to use natural naming to access this object; using ``getattr()`` will still work, though\n",
      "  check_attribute_name(name)\n"
     ]
    }
   ],
   "source": [
    "x1 = np.linspace(0, 0.5, 21)\n",
    "x2 = np.linspace(0.5, -0.5, 11)\n",
    "\n",
    "dummy_data = np.random.rand(len(x1) * len(x2), 3)\n",
    "\n",
    "kp.save_nd_sweep(filepath=filepath, data_array=dummy_data, data_column_names=[\"fpoints\", \"magnitude\", \"phase\"], \n",
    "                index_arrays=[x1, x2], index_names=[\"x1\", \"x2\"], \n",
    "                h5_key=\"2dsweep\")"
   ]
  },
  {
   "cell_type": "code",
   "execution_count": 15,
   "metadata": {},
   "outputs": [
    {
     "name": "stdout",
     "output_type": "stream",
     "text": [
      "['2dsweep']\n"
     ]
    }
   ],
   "source": [
    "print(kp.get_keys(filepath))"
   ]
  },
  {
   "cell_type": "code",
   "execution_count": 16,
   "metadata": {},
   "outputs": [
    {
     "data": {
      "text/html": [
       "<div>\n",
       "<style scoped>\n",
       "    .dataframe tbody tr th:only-of-type {\n",
       "        vertical-align: middle;\n",
       "    }\n",
       "\n",
       "    .dataframe tbody tr th {\n",
       "        vertical-align: top;\n",
       "    }\n",
       "\n",
       "    .dataframe thead th {\n",
       "        text-align: right;\n",
       "    }\n",
       "</style>\n",
       "<table border=\"1\" class=\"dataframe\">\n",
       "  <thead>\n",
       "    <tr style=\"text-align: right;\">\n",
       "      <th></th>\n",
       "      <th></th>\n",
       "      <th>fpoints</th>\n",
       "      <th>magnitude</th>\n",
       "      <th>phase</th>\n",
       "    </tr>\n",
       "    <tr>\n",
       "      <th>x1</th>\n",
       "      <th>x2</th>\n",
       "      <th></th>\n",
       "      <th></th>\n",
       "      <th></th>\n",
       "    </tr>\n",
       "  </thead>\n",
       "  <tbody>\n",
       "    <tr>\n",
       "      <th rowspan=\"5\" valign=\"top\">0.0</th>\n",
       "      <th>0.5</th>\n",
       "      <td>0.539804</td>\n",
       "      <td>0.534638</td>\n",
       "      <td>0.988106</td>\n",
       "    </tr>\n",
       "    <tr>\n",
       "      <th>0.4</th>\n",
       "      <td>0.612307</td>\n",
       "      <td>0.996575</td>\n",
       "      <td>0.042969</td>\n",
       "    </tr>\n",
       "    <tr>\n",
       "      <th>0.3</th>\n",
       "      <td>0.442704</td>\n",
       "      <td>0.799247</td>\n",
       "      <td>0.970814</td>\n",
       "    </tr>\n",
       "    <tr>\n",
       "      <th>0.2</th>\n",
       "      <td>0.362341</td>\n",
       "      <td>0.664080</td>\n",
       "      <td>0.645652</td>\n",
       "    </tr>\n",
       "    <tr>\n",
       "      <th>0.1</th>\n",
       "      <td>0.024418</td>\n",
       "      <td>0.033680</td>\n",
       "      <td>0.417882</td>\n",
       "    </tr>\n",
       "    <tr>\n",
       "      <th>...</th>\n",
       "      <th>...</th>\n",
       "      <td>...</td>\n",
       "      <td>...</td>\n",
       "      <td>...</td>\n",
       "    </tr>\n",
       "    <tr>\n",
       "      <th rowspan=\"5\" valign=\"top\">0.5</th>\n",
       "      <th>-0.1</th>\n",
       "      <td>0.545670</td>\n",
       "      <td>0.109269</td>\n",
       "      <td>0.776292</td>\n",
       "    </tr>\n",
       "    <tr>\n",
       "      <th>-0.2</th>\n",
       "      <td>0.545369</td>\n",
       "      <td>0.063553</td>\n",
       "      <td>0.556822</td>\n",
       "    </tr>\n",
       "    <tr>\n",
       "      <th>-0.3</th>\n",
       "      <td>0.347187</td>\n",
       "      <td>0.115480</td>\n",
       "      <td>0.152937</td>\n",
       "    </tr>\n",
       "    <tr>\n",
       "      <th>-0.4</th>\n",
       "      <td>0.939563</td>\n",
       "      <td>0.062664</td>\n",
       "      <td>0.963128</td>\n",
       "    </tr>\n",
       "    <tr>\n",
       "      <th>-0.5</th>\n",
       "      <td>0.248137</td>\n",
       "      <td>0.998963</td>\n",
       "      <td>0.514901</td>\n",
       "    </tr>\n",
       "  </tbody>\n",
       "</table>\n",
       "<p>231 rows × 3 columns</p>\n",
       "</div>"
      ],
      "text/plain": [
       "           fpoints  magnitude     phase\n",
       "x1  x2                                 \n",
       "0.0  0.5  0.539804   0.534638  0.988106\n",
       "     0.4  0.612307   0.996575  0.042969\n",
       "     0.3  0.442704   0.799247  0.970814\n",
       "     0.2  0.362341   0.664080  0.645652\n",
       "     0.1  0.024418   0.033680  0.417882\n",
       "...            ...        ...       ...\n",
       "0.5 -0.1  0.545670   0.109269  0.776292\n",
       "    -0.2  0.545369   0.063553  0.556822\n",
       "    -0.3  0.347187   0.115480  0.152937\n",
       "    -0.4  0.939563   0.062664  0.963128\n",
       "    -0.5  0.248137   0.998963  0.514901\n",
       "\n",
       "[231 rows x 3 columns]"
      ]
     },
     "execution_count": 16,
     "metadata": {},
     "output_type": "execute_result"
    }
   ],
   "source": [
    "df = kp.open_file(filepath, h5_key=\"2dsweep\")\n",
    "df"
   ]
  },
  {
   "attachments": {},
   "cell_type": "markdown",
   "metadata": {},
   "source": [
    "## Build a 2d array, data point by data point"
   ]
  },
  {
   "attachments": {},
   "cell_type": "markdown",
   "metadata": {},
   "source": [
    "This is the simplest 2d sweep, where we save only a single row of data per sweep index. Thus, data is concatenated row by row."
   ]
  },
  {
   "cell_type": "code",
   "execution_count": 17,
   "metadata": {},
   "outputs": [
    {
     "name": "stdout",
     "output_type": "stream",
     "text": [
      "['2dsweep']\n"
     ]
    }
   ],
   "source": [
    "print(kp.get_keys(filepath))"
   ]
  },
  {
   "cell_type": "code",
   "execution_count": 18,
   "metadata": {},
   "outputs": [
    {
     "name": "stdout",
     "output_type": "stream",
     "text": [
      "h5_key build2d does not exist! These are all available h5_keys:\n",
      "['2dsweep']\n"
     ]
    }
   ],
   "source": [
    "# x1 and x2 are imaginary voltage sweep axes\n",
    "x1 = np.linspace(0, 0.5, 21)\n",
    "x2 = np.linspace(0.5, -0.5, 11)\n",
    "\n",
    "for X1 in x1:\n",
    "    for X2 in x2:\n",
    "        # Generate some fake data point with 3 quantities, imagine these are the freq, mag, phase from a VNA trace at a single frequency.\n",
    "        data_array = np.random.rand(3).reshape(-1, 3)\n",
    "        \n",
    "        kp.append_nd_sweep(filepath, data_array, index_arrays=[[X1], [X2]], data_column_names=[\"a\", \"b\", \"c\"], \n",
    "                           index_names=[\"x1\", \"x2\"], h5_key=\"build2d\")\n"
   ]
  },
  {
   "cell_type": "code",
   "execution_count": 19,
   "metadata": {},
   "outputs": [
    {
     "data": {
      "text/html": [
       "<div>\n",
       "<style scoped>\n",
       "    .dataframe tbody tr th:only-of-type {\n",
       "        vertical-align: middle;\n",
       "    }\n",
       "\n",
       "    .dataframe tbody tr th {\n",
       "        vertical-align: top;\n",
       "    }\n",
       "\n",
       "    .dataframe thead th {\n",
       "        text-align: right;\n",
       "    }\n",
       "</style>\n",
       "<table border=\"1\" class=\"dataframe\">\n",
       "  <thead>\n",
       "    <tr style=\"text-align: right;\">\n",
       "      <th></th>\n",
       "      <th></th>\n",
       "      <th>a</th>\n",
       "      <th>b</th>\n",
       "      <th>c</th>\n",
       "    </tr>\n",
       "    <tr>\n",
       "      <th>x1</th>\n",
       "      <th>x2</th>\n",
       "      <th></th>\n",
       "      <th></th>\n",
       "      <th></th>\n",
       "    </tr>\n",
       "  </thead>\n",
       "  <tbody>\n",
       "    <tr>\n",
       "      <th rowspan=\"5\" valign=\"top\">0.0</th>\n",
       "      <th>0.5</th>\n",
       "      <td>0.836360</td>\n",
       "      <td>0.940630</td>\n",
       "      <td>0.856000</td>\n",
       "    </tr>\n",
       "    <tr>\n",
       "      <th>0.4</th>\n",
       "      <td>0.282287</td>\n",
       "      <td>0.537046</td>\n",
       "      <td>0.147755</td>\n",
       "    </tr>\n",
       "    <tr>\n",
       "      <th>0.3</th>\n",
       "      <td>0.040774</td>\n",
       "      <td>0.937660</td>\n",
       "      <td>0.308115</td>\n",
       "    </tr>\n",
       "    <tr>\n",
       "      <th>0.2</th>\n",
       "      <td>0.816309</td>\n",
       "      <td>0.401765</td>\n",
       "      <td>0.861167</td>\n",
       "    </tr>\n",
       "    <tr>\n",
       "      <th>0.1</th>\n",
       "      <td>0.824510</td>\n",
       "      <td>0.160133</td>\n",
       "      <td>0.973313</td>\n",
       "    </tr>\n",
       "    <tr>\n",
       "      <th>...</th>\n",
       "      <th>...</th>\n",
       "      <td>...</td>\n",
       "      <td>...</td>\n",
       "      <td>...</td>\n",
       "    </tr>\n",
       "    <tr>\n",
       "      <th rowspan=\"5\" valign=\"top\">0.5</th>\n",
       "      <th>-0.1</th>\n",
       "      <td>0.327972</td>\n",
       "      <td>0.088192</td>\n",
       "      <td>0.460258</td>\n",
       "    </tr>\n",
       "    <tr>\n",
       "      <th>-0.2</th>\n",
       "      <td>0.150239</td>\n",
       "      <td>0.511171</td>\n",
       "      <td>0.868756</td>\n",
       "    </tr>\n",
       "    <tr>\n",
       "      <th>-0.3</th>\n",
       "      <td>0.083405</td>\n",
       "      <td>0.254763</td>\n",
       "      <td>0.090458</td>\n",
       "    </tr>\n",
       "    <tr>\n",
       "      <th>-0.4</th>\n",
       "      <td>0.022200</td>\n",
       "      <td>0.767555</td>\n",
       "      <td>0.113581</td>\n",
       "    </tr>\n",
       "    <tr>\n",
       "      <th>-0.5</th>\n",
       "      <td>0.419437</td>\n",
       "      <td>0.718371</td>\n",
       "      <td>0.739818</td>\n",
       "    </tr>\n",
       "  </tbody>\n",
       "</table>\n",
       "<p>231 rows × 3 columns</p>\n",
       "</div>"
      ],
      "text/plain": [
       "                 a         b         c\n",
       "x1  x2                                \n",
       "0.0  0.5  0.836360  0.940630  0.856000\n",
       "     0.4  0.282287  0.537046  0.147755\n",
       "     0.3  0.040774  0.937660  0.308115\n",
       "     0.2  0.816309  0.401765  0.861167\n",
       "     0.1  0.824510  0.160133  0.973313\n",
       "...            ...       ...       ...\n",
       "0.5 -0.1  0.327972  0.088192  0.460258\n",
       "    -0.2  0.150239  0.511171  0.868756\n",
       "    -0.3  0.083405  0.254763  0.090458\n",
       "    -0.4  0.022200  0.767555  0.113581\n",
       "    -0.5  0.419437  0.718371  0.739818\n",
       "\n",
       "[231 rows x 3 columns]"
      ]
     },
     "execution_count": 19,
     "metadata": {},
     "output_type": "execute_result"
    }
   ],
   "source": [
    "df = kp.open_file(filepath, h5_key=\"build2d\")\n",
    "df"
   ]
  },
  {
   "attachments": {},
   "cell_type": "markdown",
   "metadata": {},
   "source": [
    "The file now has an extra entry. It left the other two keys untouched."
   ]
  },
  {
   "cell_type": "code",
   "execution_count": 20,
   "metadata": {},
   "outputs": [
    {
     "name": "stdout",
     "output_type": "stream",
     "text": [
      "['2dsweep', 'build2d']\n"
     ]
    }
   ],
   "source": [
    "print(kp.get_keys(filepath))"
   ]
  },
  {
   "attachments": {},
   "cell_type": "markdown",
   "metadata": {},
   "source": [
    "Now, what if the data is multi-dimensional?"
   ]
  },
  {
   "cell_type": "code",
   "execution_count": 21,
   "metadata": {},
   "outputs": [
    {
     "name": "stdout",
     "output_type": "stream",
     "text": [
      "h5_key build3d does not exist! These are all available h5_keys:\n",
      "['2dsweep', 'build2d']\n"
     ]
    }
   ],
   "source": [
    "# x1 and x2 are imaginary voltage sweep axes\n",
    "x1 = np.linspace(0, 0.5, 21)\n",
    "x2 = np.linspace(0.5, -0.5, 11)\n",
    "\n",
    "# Simulate a sweep over some arrays x1 and x2 (as one would do in experiment)\n",
    "for X1 in x1:\n",
    "    for X2 in x2:\n",
    "        # Generate some fake data point with 3 quantities, imagine these are the freq, mag, phase from a VNA trace at a single frequency.\n",
    "        data_array = np.random.rand(10, 3)\n",
    "        \n",
    "        # Note the extra added index_name called fpoints\n",
    "        kp.append_nd_sweep(filepath, data_array, index_arrays=[[X1], [X2], range(10)], \n",
    "                           data_column_names=[\"a\", \"b\", \"c\"], \n",
    "                           index_names=[\"x1\", \"x2\", \"fpoints\"], \n",
    "                           h5_key=\"build3d\")"
   ]
  },
  {
   "cell_type": "code",
   "execution_count": 22,
   "metadata": {},
   "outputs": [
    {
     "data": {
      "text/html": [
       "<div>\n",
       "<style scoped>\n",
       "    .dataframe tbody tr th:only-of-type {\n",
       "        vertical-align: middle;\n",
       "    }\n",
       "\n",
       "    .dataframe tbody tr th {\n",
       "        vertical-align: top;\n",
       "    }\n",
       "\n",
       "    .dataframe thead th {\n",
       "        text-align: right;\n",
       "    }\n",
       "</style>\n",
       "<table border=\"1\" class=\"dataframe\">\n",
       "  <thead>\n",
       "    <tr style=\"text-align: right;\">\n",
       "      <th></th>\n",
       "      <th></th>\n",
       "      <th></th>\n",
       "      <th>a</th>\n",
       "      <th>b</th>\n",
       "      <th>c</th>\n",
       "    </tr>\n",
       "    <tr>\n",
       "      <th>x1</th>\n",
       "      <th>x2</th>\n",
       "      <th>fpoints</th>\n",
       "      <th></th>\n",
       "      <th></th>\n",
       "      <th></th>\n",
       "    </tr>\n",
       "  </thead>\n",
       "  <tbody>\n",
       "    <tr>\n",
       "      <th rowspan=\"5\" valign=\"top\">0.0</th>\n",
       "      <th rowspan=\"5\" valign=\"top\">0.5</th>\n",
       "      <th>0</th>\n",
       "      <td>0.739670</td>\n",
       "      <td>0.422570</td>\n",
       "      <td>0.288645</td>\n",
       "    </tr>\n",
       "    <tr>\n",
       "      <th>1</th>\n",
       "      <td>0.108598</td>\n",
       "      <td>0.452312</td>\n",
       "      <td>0.729118</td>\n",
       "    </tr>\n",
       "    <tr>\n",
       "      <th>2</th>\n",
       "      <td>0.112668</td>\n",
       "      <td>0.193785</td>\n",
       "      <td>0.739251</td>\n",
       "    </tr>\n",
       "    <tr>\n",
       "      <th>3</th>\n",
       "      <td>0.835426</td>\n",
       "      <td>0.288790</td>\n",
       "      <td>0.232218</td>\n",
       "    </tr>\n",
       "    <tr>\n",
       "      <th>4</th>\n",
       "      <td>0.329494</td>\n",
       "      <td>0.183080</td>\n",
       "      <td>0.919802</td>\n",
       "    </tr>\n",
       "    <tr>\n",
       "      <th>...</th>\n",
       "      <th>...</th>\n",
       "      <th>...</th>\n",
       "      <td>...</td>\n",
       "      <td>...</td>\n",
       "      <td>...</td>\n",
       "    </tr>\n",
       "    <tr>\n",
       "      <th rowspan=\"5\" valign=\"top\">0.5</th>\n",
       "      <th rowspan=\"5\" valign=\"top\">-0.5</th>\n",
       "      <th>5</th>\n",
       "      <td>0.897487</td>\n",
       "      <td>0.527722</td>\n",
       "      <td>0.528144</td>\n",
       "    </tr>\n",
       "    <tr>\n",
       "      <th>6</th>\n",
       "      <td>0.776530</td>\n",
       "      <td>0.443348</td>\n",
       "      <td>0.280452</td>\n",
       "    </tr>\n",
       "    <tr>\n",
       "      <th>7</th>\n",
       "      <td>0.550358</td>\n",
       "      <td>0.928959</td>\n",
       "      <td>0.688601</td>\n",
       "    </tr>\n",
       "    <tr>\n",
       "      <th>8</th>\n",
       "      <td>0.379351</td>\n",
       "      <td>0.846562</td>\n",
       "      <td>0.318915</td>\n",
       "    </tr>\n",
       "    <tr>\n",
       "      <th>9</th>\n",
       "      <td>0.731484</td>\n",
       "      <td>0.576821</td>\n",
       "      <td>0.865358</td>\n",
       "    </tr>\n",
       "  </tbody>\n",
       "</table>\n",
       "<p>2310 rows × 3 columns</p>\n",
       "</div>"
      ],
      "text/plain": [
       "                         a         b         c\n",
       "x1  x2   fpoints                              \n",
       "0.0  0.5 0        0.739670  0.422570  0.288645\n",
       "         1        0.108598  0.452312  0.729118\n",
       "         2        0.112668  0.193785  0.739251\n",
       "         3        0.835426  0.288790  0.232218\n",
       "         4        0.329494  0.183080  0.919802\n",
       "...                    ...       ...       ...\n",
       "0.5 -0.5 5        0.897487  0.527722  0.528144\n",
       "         6        0.776530  0.443348  0.280452\n",
       "         7        0.550358  0.928959  0.688601\n",
       "         8        0.379351  0.846562  0.318915\n",
       "         9        0.731484  0.576821  0.865358\n",
       "\n",
       "[2310 rows x 3 columns]"
      ]
     },
     "execution_count": 22,
     "metadata": {},
     "output_type": "execute_result"
    }
   ],
   "source": [
    "kp.open_file(filepath, h5_key=\"build3d\")"
   ]
  },
  {
   "cell_type": "code",
   "execution_count": 23,
   "metadata": {},
   "outputs": [
    {
     "name": "stdout",
     "output_type": "stream",
     "text": [
      "['2dsweep', 'build2d', 'build3d']\n"
     ]
    }
   ],
   "source": [
    "print(kp.get_keys(filepath))"
   ]
  },
  {
   "attachments": {},
   "cell_type": "markdown",
   "metadata": {},
   "source": [
    "## Add a settings dictionary to the same file"
   ]
  },
  {
   "cell_type": "code",
   "execution_count": 24,
   "metadata": {},
   "outputs": [],
   "source": [
    "# Create a dictionary with some settings\n",
    "settings = {\"setting_1\" : 3.0, \"setting_2\" : True, \"setting_3\" : \"another_datatype\"}\n",
    "\n",
    "kp.save_dict(filepath=filepath, data_dict=settings, h5_key=\"settings\")"
   ]
  },
  {
   "cell_type": "code",
   "execution_count": 25,
   "metadata": {},
   "outputs": [
    {
     "data": {
      "text/html": [
       "<div>\n",
       "<style scoped>\n",
       "    .dataframe tbody tr th:only-of-type {\n",
       "        vertical-align: middle;\n",
       "    }\n",
       "\n",
       "    .dataframe tbody tr th {\n",
       "        vertical-align: top;\n",
       "    }\n",
       "\n",
       "    .dataframe thead th {\n",
       "        text-align: right;\n",
       "    }\n",
       "</style>\n",
       "<table border=\"1\" class=\"dataframe\">\n",
       "  <thead>\n",
       "    <tr style=\"text-align: right;\">\n",
       "      <th></th>\n",
       "      <th>setting_1</th>\n",
       "      <th>setting_2</th>\n",
       "      <th>setting_3</th>\n",
       "    </tr>\n",
       "  </thead>\n",
       "  <tbody>\n",
       "    <tr>\n",
       "      <th>0</th>\n",
       "      <td>3.0</td>\n",
       "      <td>True</td>\n",
       "      <td>another_datatype</td>\n",
       "    </tr>\n",
       "  </tbody>\n",
       "</table>\n",
       "</div>"
      ],
      "text/plain": [
       "   setting_1  setting_2         setting_3\n",
       "0        3.0       True  another_datatype"
      ]
     },
     "execution_count": 25,
     "metadata": {},
     "output_type": "execute_result"
    }
   ],
   "source": [
    "df = kp.open_file(filepath, h5_key=\"settings\")\n",
    "df"
   ]
  },
  {
   "attachments": {},
   "cell_type": "markdown",
   "metadata": {},
   "source": [
    "Now append to the same dictionary"
   ]
  },
  {
   "cell_type": "code",
   "execution_count": 26,
   "metadata": {},
   "outputs": [
    {
     "data": {
      "text/html": [
       "<div>\n",
       "<style scoped>\n",
       "    .dataframe tbody tr th:only-of-type {\n",
       "        vertical-align: middle;\n",
       "    }\n",
       "\n",
       "    .dataframe tbody tr th {\n",
       "        vertical-align: top;\n",
       "    }\n",
       "\n",
       "    .dataframe thead th {\n",
       "        text-align: right;\n",
       "    }\n",
       "</style>\n",
       "<table border=\"1\" class=\"dataframe\">\n",
       "  <thead>\n",
       "    <tr style=\"text-align: right;\">\n",
       "      <th></th>\n",
       "      <th>setting_1</th>\n",
       "      <th>setting_2</th>\n",
       "      <th>setting_3</th>\n",
       "    </tr>\n",
       "  </thead>\n",
       "  <tbody>\n",
       "    <tr>\n",
       "      <th>0</th>\n",
       "      <td>3.0</td>\n",
       "      <td>True</td>\n",
       "      <td>another_datatype</td>\n",
       "    </tr>\n",
       "    <tr>\n",
       "      <th>1</th>\n",
       "      <td>1.0</td>\n",
       "      <td>False</td>\n",
       "      <td>test1</td>\n",
       "    </tr>\n",
       "  </tbody>\n",
       "</table>\n",
       "</div>"
      ],
      "text/plain": [
       "   setting_1  setting_2         setting_3\n",
       "0        3.0       True  another_datatype\n",
       "1        1.0      False             test1"
      ]
     },
     "execution_count": 26,
     "metadata": {},
     "output_type": "execute_result"
    }
   ],
   "source": [
    "more_settings = {\"setting_1\" : 1.0, \"setting_2\" : False, \"setting_3\" : \"test1\"}\n",
    "kp.append_dict(filepath, more_settings, h5_key=\"settings\")\n",
    "\n",
    "# Check the contents of the new file\n",
    "df = kp.open_file(filepath, h5_key=\"settings\")\n",
    "df"
   ]
  },
  {
   "cell_type": "code",
   "execution_count": 27,
   "metadata": {},
   "outputs": [
    {
     "name": "stdout",
     "output_type": "stream",
     "text": [
      "['2dsweep', 'build2d', 'build3d', 'settings']\n"
     ]
    }
   ],
   "source": [
    "print(kp.get_keys(filepath))"
   ]
  },
  {
   "cell_type": "code",
   "execution_count": null,
   "metadata": {},
   "outputs": [],
   "source": []
  }
 ],
 "metadata": {
  "kernelspec": {
   "display_name": "eonhe",
   "language": "python",
   "name": "python3"
  },
  "language_info": {
   "codemirror_mode": {
    "name": "ipython",
    "version": 3
   },
   "file_extension": ".py",
   "mimetype": "text/x-python",
   "name": "python",
   "nbconvert_exporter": "python",
   "pygments_lexer": "ipython3",
   "version": "3.10.6"
  },
  "orig_nbformat": 4
 },
 "nbformat": 4,
 "nbformat_minor": 2
}
